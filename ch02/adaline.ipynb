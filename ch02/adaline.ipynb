{
 "cells": [
  {
   "cell_type": "markdown",
   "id": "c2f5e201",
   "metadata": {},
   "source": [
    "# Implementing an ADALINE (Gradient Descent)"
   ]
  },
  {
   "cell_type": "code",
   "execution_count": 1,
   "id": "65ee9462",
   "metadata": {},
   "outputs": [],
   "source": [
    "class AdalineGD:\n",
    "    def __init__(self,eta=0.01,n_iter=50,random_state=1):\n",
    "        self.eta = eta\n",
    "        self.n_iter = n_iter\n",
    "        self.random_state = random_state\n",
    "    \n",
    "    def fit(self,X,y):\n",
    "        rgen = np.random.RandomState(self.random_state)\n",
    "        self.w_= rgen.normal(loc=0.0,scale=0.01,size=X.shape[1])\n",
    "        self.b_ = np.float_(0.0)\n",
    "        self.losses_ = []\n",
    "        \n",
    "        for i in range(self.n_iter):\n",
    "            net_input = self.net_input(X)\n",
    "            output = self.activation(net_input)\n",
    "            errors = (y-output)\n",
    "            \n",
    "            self.w_ += self.eta * 2.0 * X.T.dot(errors) / X.shape[0]\n",
    "            self.b_ += self.eta * 2.0 * errors.mean()\n",
    "            loss = (errors**2).mean()\n",
    "            self.losses_.append(loss)\n",
    "        \n",
    "        return self    \n",
    "    \n",
    "    def net_input(self,X):\n",
    "        return np.dot(X, self.w_) + self.b_\n",
    "    \n",
    "    def activation(self,X):\n",
    "        return X\n",
    "    \n",
    "    def predict(X):\n",
    "        return np.where(self.activation(self.np_input(X)) >= 0.5, 1, 0)"
   ]
  },
  {
   "cell_type": "code",
   "execution_count": null,
   "id": "fca951ee",
   "metadata": {},
   "outputs": [],
   "source": [
    "fig, ax = plt.subplots(nrows=1, ncols=2, figsize=(10,4))\n",
    "\n",
    "ada1 = AdalineGD(n_iter=15,eta=0.1).fit(X,y)\n"
   ]
  }
 ],
 "metadata": {
  "kernelspec": {
   "display_name": "Python 3 (ipykernel)",
   "language": "python",
   "name": "python3"
  },
  "language_info": {
   "codemirror_mode": {
    "name": "ipython",
    "version": 3
   },
   "file_extension": ".py",
   "mimetype": "text/x-python",
   "name": "python",
   "nbconvert_exporter": "python",
   "pygments_lexer": "ipython3",
   "version": "3.9.16"
  }
 },
 "nbformat": 4,
 "nbformat_minor": 5
}
